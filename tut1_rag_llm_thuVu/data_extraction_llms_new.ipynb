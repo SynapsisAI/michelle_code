{
 "cells": [
  {
   "cell_type": "code",
   "execution_count": 2,
   "metadata": {},
   "outputs": [
    {
     "name": "stdout",
     "output_type": "stream",
     "text": [
      "\n",
      "\u001b[1m[\u001b[0m\u001b[34;49mnotice\u001b[0m\u001b[1;39;49m]\u001b[0m\u001b[39;49m A new release of pip is available: \u001b[0m\u001b[31;49m24.0\u001b[0m\u001b[39;49m -> \u001b[0m\u001b[32;49m25.0.1\u001b[0m\n",
      "\u001b[1m[\u001b[0m\u001b[34;49mnotice\u001b[0m\u001b[1;39;49m]\u001b[0m\u001b[39;49m To update, run: \u001b[0m\u001b[32;49mpip install --upgrade pip\u001b[0m\n",
      "\n",
      "\u001b[1m[\u001b[0m\u001b[34;49mnotice\u001b[0m\u001b[1;39;49m]\u001b[0m\u001b[39;49m A new release of pip is available: \u001b[0m\u001b[31;49m24.0\u001b[0m\u001b[39;49m -> \u001b[0m\u001b[32;49m25.0.1\u001b[0m\n",
      "\u001b[1m[\u001b[0m\u001b[34;49mnotice\u001b[0m\u001b[1;39;49m]\u001b[0m\u001b[39;49m To update, run: \u001b[0m\u001b[32;49mpip install --upgrade pip\u001b[0m\n"
     ]
    }
   ],
   "source": [
    "!pip3 install --upgrade --quiet langchain langchain-community langchain-openai chromadb \n",
    "!pip3 install --upgrade --quiet pypdf pandas streamlit python-dotenv"
   ]
  },
  {
   "cell_type": "code",
   "execution_count": 3,
   "metadata": {},
   "outputs": [],
   "source": [
    "# Import Langchain modules\n",
    "from langchain.document_loaders import PyPDFLoader\n",
    "from langchain.text_splitter import RecursiveCharacterTextSplitter\n",
    "from langchain_openai import OpenAIEmbeddings, ChatOpenAI\n",
    "from langchain.vectorstores import Chroma\n",
    "from langchain_core.runnables import RunnablePassthrough\n",
    "from langchain_core.prompts import ChatPromptTemplate\n",
    "from langchain_core.pydantic_v1 import BaseModel, Field\n",
    "\n",
    "# Other modules and packages\n",
    "import os\n",
    "import tempfile\n",
    "import streamlit as st  \n",
    "import pandas as pd\n",
    "from dotenv import load_dotenv"
   ]
  },
  {
   "cell_type": "code",
   "execution_count": 8,
   "metadata": {},
   "outputs": [
    {
     "data": {
      "text/plain": [
       "False"
      ]
     },
     "execution_count": 8,
     "metadata": {},
     "output_type": "execute_result"
    }
   ],
   "source": [
    "# Construct path to .env file in parent directory\n",
    "#dotenv_path_parent = os.path.abspath(os.path.join(os.getcwd(), os.pardir))"
   ]
  },
  {
   "cell_type": "code",
   "execution_count": 13,
   "metadata": {},
   "outputs": [
    {
     "data": {
      "text/plain": [
       "True"
      ]
     },
     "execution_count": 13,
     "metadata": {},
     "output_type": "execute_result"
    }
   ],
   "source": [
    "# Load environment variables from .env file \n",
    "#by default search in the same directory\n",
    "load_dotenv() #if printing out True: can see the path; if False: cannot see"
   ]
  },
  {
   "cell_type": "markdown",
   "metadata": {},
   "source": [
    "## Define our LLM"
   ]
  },
  {
   "cell_type": "code",
   "execution_count": 14,
   "metadata": {},
   "outputs": [],
   "source": [
    "llm = ChatOpenAI(model=\"gpt-4o-mini\", api_key=os.getenv(\"OPENAI_API_KEY\"))\n",
    "#\"gpt-4o-mini\" is a smaller, cheap model, suitable for smaller tasks\n",
    "#llm.invoke(\"Tell me a joke about cats\")"
   ]
  },
  {
   "cell_type": "markdown",
   "metadata": {},
   "source": [
    "# Part 1 RAG: Process"
   ]
  },
  {
   "cell_type": "markdown",
   "metadata": {},
   "source": [
    "## Process PDF document"
   ]
  },
  {
   "cell_type": "markdown",
   "metadata": {},
   "source": [
    "### Load PDF document"
   ]
  },
  {
   "cell_type": "code",
   "execution_count": 15,
   "metadata": {},
   "outputs": [
    {
     "data": {
      "text/plain": [
       "[Document(metadata={'producer': 'Acrobat Distiller 8.1.0 (Windows)', 'creator': 'Elsevier', 'creationdate': '2023-06-19T03:00:26+00:00', 'crossmarkdomains[1]': 'elsevier.com', 'crossmarkmajorversiondate': '2010-04-23', 'creationdate--text': '19th June 2023', 'elsevierwebpdfspecifications': '7.0', 'robots': 'noindex', 'moddate': '2023-06-19T06:09:43+00:00', 'author': 'Han Ngoc Bao Nguyen', 'doi': '10.1016/j.rechem.2023.100888', 'title': 'Quantitative Structure-Activity Relationship (QSAR) modelling of the activity of anti-colorectal cancer agents featuring quantum chemical predictors and interaction terms', 'keywords': 'Anti-colorectal cancer agents,Interaction terms,Logistic regression,QSAR,Quantum chemical predictors', 'subject': 'Results in Chemistry, 5 (2023) 100888. doi:10.1016/j.rechem.2023.100888', 'crossmarkdomains[2]': 'sciencedirect.com', 'crossmarkdomainexclusive': 'true', 'source': 'data/han_qsar.pdf', 'total_pages': 8, 'page': 0, 'page_label': '1'}, page_content='Results in Chemistry 5 (2023) 100888\\nAvailable online 10 March 2023\\n2211-7156/© 2023 The Authors. Published by Elsevier B.V. This is an open access article under the CC BY-NC-ND license (http://creativecommons.org/licenses/by-\\nnc-nd/4.0/).\\nQuantitative Structure-Activity Relationship (QSAR) modelling of the \\nactivity of anti-colorectal cancer agents featuring quantum chemical \\npredictors and interaction terms \\nHan Ngoc Bao Nguyen\\na\\n, Michael Yudistira Patuwo\\nb , * \\na\\nSt. Andrew ’ s Junior College, 5 Sorby Adams Drive, Singapore 357691, Singapore \\nb\\nNational University of Singapore, Department of Chemistry, Block S8 Level 3, 3 Science Drive 3, Singapore 117543, Singapore   \\nARTICLE INFO  \\nKeywords: \\nAnti-colorectal cancer agents \\nInteraction terms \\nLogistic regression \\nQSAR \\nQuantum chemical predictors \\nABSTRACT  \\nA Quantitative Structure-Activity Relationship (QSAR) study was performed to 1) predict the activity of new \\ncompounds as anti-colorectal cancer agents and 2) select chemical predictors that accurately model relationships \\nbetween molecular structures and bioactivity against colon cancer cell lines. Logistic regression was used to \\nobtain coefficients for the QSAR classification model. Quantum chemical predictors were found to be significant \\npredictors, such as the total electronic energy (E\\nT\\n), charge of the most positive atom (Q\\nmax\\n) and electrophilicity \\n( ω ), thus validating the need to consider them besides those routinely used in anti-colorectal cancer agents QSAR. \\nThe model selected simple and significant predictors that can be obtained directly using information from \\ngaseous-state Gaussian optimisation at HF/3-21G in a vacuum, with no external calculation software, providing \\nan inexpensive yet robust QSAR model. In addition, two interaction terms were proven to be significant at 95 % \\nconfidence level, reiterating the importance of interaction between predictors that is not commonly seen in QSAR \\nmodels.   \\nIntroduction \\nColorectal cancer (CRC) is the third most common type of cancer \\nworldwide [1] , besetting more than a million people every year [2] . It is \\nthe second leading cause of death among various types of cancer, with \\n935 000 deaths in 2020 [3] . Surgery is only successful in CRC treatment \\nin the early localised stage when it is limited within the wall of the colon \\n[4] . Furthermore, CRC has little response to radiation [5] , which makes \\nchemotherapy crucial in the treatment of widespread malignancies of \\nCRC [6] . Therefore, the discovery of new anticancer drugs that have \\nhigher efficacy and more manageable side effects is extremely vital [7] . \\nHowever, drug discovery is a complex, expensive and time- \\nconsuming process, with only 11 % success rate in 2014 [8] . Thus, \\ncomputational methodologies have been employed to minimise costs \\nand shorten the research cycle, in which QSAR is a powerful approach to \\nidentify lead compound [9] . QSAR was first developed by Hansch [10] \\n40 years ago. It involves building a robust statistical algorithm that re -\\nlates the molecular structures of a molecule to its activity, by selecting \\nappropriate molecular descriptors [11] . As such, the potential of a newly \\ndiscovered compound can be validated [12] . QSAR has helped to speed \\nup the evaluation of drug compounds properties [13] , thus accelerating \\nthe development of new drugs [14] . \\nIn binary classification problems, QSAR models have been proven to \\nbe very effective [15] .There has been numerous literature on modelling \\nanti-CRC activity, such as Kim BS et al. [16] , Sagir Yusuf Ismail et al. [9] , \\nVerma et al. [17] , Deokar et al. [18] , Rybka et al. [19] and Cruz et al. \\n[20] . These QSAR models used structural, geometrical and topological \\ndescriptors to predict the anti-CRC activity of compounds. However, \\nvery few of these QSAR models selected quantum chemical predictors. \\nQuantum chemical predictors, such as highest occupied molecular \\norbital (HOMO), lowest unoccupied molecular orbital (LUMO) and \\ncharge predictors, have been shown to encapsulate information that \\ncharacterises the reactivity, shape and binding properties [21] . Shruti \\net al. [22] showed that the best anti-cancer agents QSAR model required \\nMiERIC, MiERIN, MaREHN quantum chemical predictors from the \\nCODESSA programme [23] . Violeta Markovi ´c et al. [24] proved that \\nquantum-chemical predictors were crucial in predicting anti-tumour \\nactivity of edaravone derivatives. However, they have hitherto gained \\nlittle recognition in anti-CRC QSAR. Thus, this represents an opportunity \\nto explore more into this area. \\n* Corresponding author. \\nE-mail address: chmmiy@nus.edu.sg (M.Y. Patuwo).  \\nContents lists available at ScienceDirect \\nResults in Chemistry \\njournal homep age: www.sci encedirect. com/journa l/results-in -chemistry \\nhttps://doi.org/10.1016/j.rechem.2023.100888 \\nReceived 29 September 2022; Accepted 7 March 2023'),\n",
       " Document(metadata={'producer': 'Acrobat Distiller 8.1.0 (Windows)', 'creator': 'Elsevier', 'creationdate': '2023-06-19T03:00:26+00:00', 'crossmarkdomains[1]': 'elsevier.com', 'crossmarkmajorversiondate': '2010-04-23', 'creationdate--text': '19th June 2023', 'elsevierwebpdfspecifications': '7.0', 'robots': 'noindex', 'moddate': '2023-06-19T06:09:43+00:00', 'author': 'Han Ngoc Bao Nguyen', 'doi': '10.1016/j.rechem.2023.100888', 'title': 'Quantitative Structure-Activity Relationship (QSAR) modelling of the activity of anti-colorectal cancer agents featuring quantum chemical predictors and interaction terms', 'keywords': 'Anti-colorectal cancer agents,Interaction terms,Logistic regression,QSAR,Quantum chemical predictors', 'subject': 'Results in Chemistry, 5 (2023) 100888. doi:10.1016/j.rechem.2023.100888', 'crossmarkdomains[2]': 'sciencedirect.com', 'crossmarkdomainexclusive': 'true', 'source': 'data/han_qsar.pdf', 'total_pages': 8, 'page': 1, 'page_label': '2'}, page_content='Results in Chemistry 5 (2023) 100888\\n2\\nFor the QSAR models which made use of quantum chemical pre -\\ndictors, they were noted to be computationally expensive, such as MiVH, \\nMiNRC, MaVO, AVN, MiERC, ANRN, MaBON predictors calculated by \\nCODESSA [23] (Bohari et al. [4] ) or Spartan 14 Wave function software \\n(Ismail et al. [9] ). Other non-quantum chemical and structural pre -\\ndictors are also calculated by external software, such as Canvas of the \\nSchrodinger Suite, Virtual Computational Chemistry Laboratory [25] \\nand PaDEL-Descriptor [26] (Deokar et al. [18] , Rybka et al. [19] and \\nCruz et al. ’ s [20] ). Thus, there is potential in using simple predictors \\nwithout external calculation software, to obtain a reliable model that is \\ninexpensive and more convenient. \\nLastly, most QSAR studies predicting activity against cancer cell lines \\nuse MLR models with single linear terms, such as in the works of Girgis \\net al., Zolnowska et al., Slawinski et al. and Gramatica et al. [27 – 31] . \\nHowever, the structural and quantum chemical predictors may interact \\nwith one another, a phenomenon usually observed in machine learning \\nproblems [32] . Therefore, there is a need to address the lack of inter -\\naction terms in QSAR models. \\nHence, this research aims to generate a statistically valid, robust and \\ninexpensive model to predict the anti-CRC activity without the use of \\nexternal calculation software. It also evaluates the significance of \\nquantum chemical predictors and the importance of interaction between \\npredictors in QSAR studies. \\nMaterials and methods \\nThe procedures used in this research are summarised in Fig. 1 . \\nDataset \\nThe complete dataset has 563 compounds with anti-CRC activity \\nagainst ten CRC cell lines from Alejandro Speck-Planche et al. ’ s work \\n[33] , and other 559 inactive drugs extracted from the ChemBL database \\n[34] . These drugs ’ profiles did not include anti-CRC activity and thus \\nwere considered inactive. In total, there are 1122 compounds (See \\nTable 1 ). There are approximately equal numbers of active and inactive \\ncompounds in the dataset, which generate higher accuracy and balanced \\ndetection rate [35] . \\nExtracting predictors from Gaussian output files \\nAll molecules were optimised in the gaseous state and in a vacuum at \\nHF/3-21G (Hartree-Fock), using Gaussian 16 [36] . A Python code was \\nused to extract a total of 43 predictors, 25 quantum chemical predictors \\nand 18 structural predictors from the Gaussian output log files. A pre -\\nliminary Principal Component Analysis (PCA) ( Appendix A ) was used for \\npredictor screening to reduce 43 descriptors to 20 descriptors, by \\nFig. 1. Flowchart of methodology and validation.  \\nTable 1 \\nSnippet of the dataset showing 10 compounds and their activities.  \\nNumber Molecule name SMILES Activity/ \\n1,-1 \\n41 CHEMBL116776 COc1cc(OC)cc(\\\\C\\n–\\n– C/c2ccc(N)cc2) \\nc1 \\n1 \\n42 CHEMBL102786 COc1cc2c(Nc3ccc(Sc4nccs4)c(Cl)c3) \\nc(cnc2cc1OCCCN5CCOCC5)C#N \\n1 \\n43 CHEMBL1090478 COc1ccc2c(c1)c(\\\\C\\n–\\n– C\\\\3/Oc4cc(O) \\ncc(O)c4C3\\n–\\n– O)c(C)n2CCN(C)C \\n1 \\n44 CHEMBL1242274 COc1cc(OC)cc(\\\\C\\n–\\n– C/c2ccc(cc2)C(F) \\n(F)F)c1 \\n1 \\n45 CHEMBL593700 [O-][N + ](\\n–\\n– O)c1ccc2\\\\C(\\n–\\n– C/3 \\n\\\\Nc4ccccc4C3\\n–\\n– O)\\\\C(\\n–\\n– O)Nc2c1 \\n1 \\n46 Acetaminophen Oc1ccc(NC(C)\\n–\\n– O)cc1 \\x00 1 \\n47 Amantadine NC13CC2CC(CC(C1)C2)C3 \\x00 1 \\n48 Amineptine O\\n–\\n– C(O) \\nCCCCCCNC2c3ccccc3CCc1ccccc12 \\n\\x00 1 \\n49 Amlodipine O\\n–\\n– C(OC)C1 = C(C)NC(COCCN) = C \\n(C1c2ccccc2Cl)C( = O)OCC \\n\\x00 1 \\n50 Aspirin O\\n–\\n– C(C)Oc1ccccc1C( = O)O \\x00 1  \\nFig. 2. Flowchart of interaction between predictors testing procedure.  \\nH.N.B. Nguyen and M.Y. Patuwo'),\n",
       " Document(metadata={'producer': 'Acrobat Distiller 8.1.0 (Windows)', 'creator': 'Elsevier', 'creationdate': '2023-06-19T03:00:26+00:00', 'crossmarkdomains[1]': 'elsevier.com', 'crossmarkmajorversiondate': '2010-04-23', 'creationdate--text': '19th June 2023', 'elsevierwebpdfspecifications': '7.0', 'robots': 'noindex', 'moddate': '2023-06-19T06:09:43+00:00', 'author': 'Han Ngoc Bao Nguyen', 'doi': '10.1016/j.rechem.2023.100888', 'title': 'Quantitative Structure-Activity Relationship (QSAR) modelling of the activity of anti-colorectal cancer agents featuring quantum chemical predictors and interaction terms', 'keywords': 'Anti-colorectal cancer agents,Interaction terms,Logistic regression,QSAR,Quantum chemical predictors', 'subject': 'Results in Chemistry, 5 (2023) 100888. doi:10.1016/j.rechem.2023.100888', 'crossmarkdomains[2]': 'sciencedirect.com', 'crossmarkdomainexclusive': 'true', 'source': 'data/han_qsar.pdf', 'total_pages': 8, 'page': 2, 'page_label': '3'}, page_content='Results in Chemistry 5 (2023) 100888\\n3\\nselecting descriptors with longest loading vectors and removing those \\nthat were highly correlated. \\nSelecting interaction terms with the highest increase in log-likelihood \\nFrom the dataset of 20 predictors, 190 interaction terms from 190 \\ndistinct pairs of predictors were generated. The procedure is seen in \\nFig. 2 . The original logistic regression model assumes there is no \\ninteraction between predictors, thus consisting of 20 linear terms from \\n20 predictors. Subsequently, each interaction term was added to this \\nmodel. The new model ’ s log-likelihood ( Appendix B ) is then compared to \\nof the original model. The interaction terms which gave the highest \\nincrease in log-likelihood were chosen to be further tested by the Wald \\ntest. \\nLogistic regression \\nSee Appendix B for formula of logistic regression, McFadden ’ s R\\n2 \\nand the \\nWald test \\nThe dataset was first divided into training and test set by randomly \\nselecting 40 % of the compounds to be in the test set. Using linear terms \\nchosen from PCA of 20 predictors and interaction terms chosen by the \\nincrease in log-likelihood, different logistic regression models were \\nattempted. Only significant terms (determined by the Wald test at 95 % \\nconfidence level) were selected. The model which had the highest \\nMcFadden ’ s R\\n2 \\nand highest accuracy on the test set was chosen to be the \\nfinal model. \\nResults and discussion \\nPrincipal component Analysis (PCA) of 20 predictors \\nThe dataset with 20 predictors underwent PCA. The first three \\nprincipal components ’ percentage of explained total variance is: PC1- \\n20.5 %, PC2-17.1 %, PC3-11 % ( Fig. 3 a). PC1 accounts for the most \\nvariance, with 20.5 %. Several score plots were examined and the most \\ninformative one, which shows the separation of two classes most clearly, \\nis the PC2 against PC1 plot ( Fig. 3 b – see Table 2 for predictor numbers \\nfrom 1 to 20). \\nFrom the biplot, PC1 is responsible for the separation between the \\ncompounds with and without anti-CRC activity. Predictors with the \\nhighest loading of PC1 are selected. They are those that have the longest \\nloading vectors along the PC1 axis, such as total electronic energy, \\nelectrophilicity, electronegativity, mass-related predictors, and aro -\\nmatic carbon-related predictors. Therefore, PCA results initially show \\nthat quantum chemical predictors play a role in contributing to the \\nvariance of the response. Afterwards, the selected predictors undergo \\nthe Wald test of significance in the QSAR model, before being chosen for \\nthe final model. \\nFig. 3. (a) Scree plot of 20 principal component. (b). Biplot (PC1 and PC2).  \\nTable 2 \\nList of 20 predictors.  \\nPredictor \\nNo \\nPredictor \\ncategory \\nAbbreviation Name \\n1  E\\nT \\nTotal electronic energy \\n2 Quantum \\nchemical \\nω Electrophilicity ω = χ\\n2\\n/2 η ( η =\\n0.5 (HOMO + LUMO)) [37] \\n3 (energy) χ Electronegativity χ = \\x00 .5 \\n(HOMO-LUMO) [37] \\n4  S Softness, S = 1/ η [37] \\n5 Quantum \\nchemical \\n(dipole) \\nμ Total dipole \\n6  Q\\nmax \\nCharge of the most positive \\natom \\n7 Quantum \\nchemical \\nQ\\nmin \\nCharge of the most negative \\natom \\n8 (Natural Bond \\nOrbital charge) \\nQ\\nm \\nAverage of the absolute values \\nof the charges on all atoms \\n9  Q\\nSO2N \\nSum of absolute values of \\ncharges of SO2N groups \\n10  Q\\nCONH2 \\nSum of absolute values of \\ncharges of CONH\\n2 \\ngroups \\n11  \\n̅̅̅̅ ̅\\nM\\n√\\nSquare root of molecular mass \\n12  M Molecular mass \\n13  No\\nunsub \\naromatic C \\nNumber of unsubstituted \\naromatic carbons \\n14  No\\naromatic C \\nNumber of aromatic carbons \\n15 Structural No\\noxetane \\nNumber of oxetane groups \\n16  Presence\\nCO \\nPresence or absence of CO \\ngroups \\n17  No\\nX aromatic \\nNumber of halogens to \\naromatic rings \\n18  No\\nCOOH \\nNumber of COOH carboxylic \\ngroups \\n19  No\\nOH \\nNumber of OH hydroxyl groups \\n20  No\\nArNHR \\nNumber of fragments type \\nArNHR  \\nH.N.B. Nguyen and M.Y. Patuwo'),\n",
       " Document(metadata={'producer': 'Acrobat Distiller 8.1.0 (Windows)', 'creator': 'Elsevier', 'creationdate': '2023-06-19T03:00:26+00:00', 'crossmarkdomains[1]': 'elsevier.com', 'crossmarkmajorversiondate': '2010-04-23', 'creationdate--text': '19th June 2023', 'elsevierwebpdfspecifications': '7.0', 'robots': 'noindex', 'moddate': '2023-06-19T06:09:43+00:00', 'author': 'Han Ngoc Bao Nguyen', 'doi': '10.1016/j.rechem.2023.100888', 'title': 'Quantitative Structure-Activity Relationship (QSAR) modelling of the activity of anti-colorectal cancer agents featuring quantum chemical predictors and interaction terms', 'keywords': 'Anti-colorectal cancer agents,Interaction terms,Logistic regression,QSAR,Quantum chemical predictors', 'subject': 'Results in Chemistry, 5 (2023) 100888. doi:10.1016/j.rechem.2023.100888', 'crossmarkdomains[2]': 'sciencedirect.com', 'crossmarkdomainexclusive': 'true', 'source': 'data/han_qsar.pdf', 'total_pages': 8, 'page': 3, 'page_label': '4'}, page_content='Results in Chemistry 5 (2023) 100888\\n4\\nSelecting interaction terms \\nFig. 4 shows the 5 interaction terms which gave the highest increase \\nin log-likelihood. \\nEach of those 5 interaction terms is added subsequently to the QSAR \\nlogistic regression model to undergo the Wald test. Results show that \\n‘Electrophilicity and Number of unsubstituted aromatic carbons ’ and \\n‘Number of fragment type ArNHR and Number of OH groups ’ are sig -\\nnificant by the Wald test. The inclusion of this combination gave the \\nmodel with the highest accuracy and McFadden ’ s R\\n2\\n. Without these two \\nterms, the model with only linear terms showed substantially lower \\naccuracy and McFadden ’ s R\\n2\\n. Therefore, interaction between predictors \\nplays a significant role in modelling the anti-CRC activity of a \\nFig. 4. Bar chart of increase in log-likelihood when each interaction term is added.  \\nTable 3 \\nResults of the logistic regression model.  \\nInternal validation (training set) External validation (test set) \\nAccuracy McFadden ’ s R\\n2 \\nAccuracy Sensitivity \\n0.86776 0.96555 0.85301 0.82540  \\nFig. 5. Confusion matrix on the test set.  \\nTable 4 \\nResults of leave-one-out cross-validation.  \\nNumber of correct \\npredictions \\nNumber of false \\npredictions \\nPercentage of correct \\npredictions \\n965 157  86.01 %  \\nTable 5 \\nWald test results:  \\nAbbreviation Coefficients Standard \\ndeviation \\nZ-score P values \\n̅̅̅̅ ̅\\nM\\n√\\n0.136357 0.046812 2.912842 0.003582 \\nE\\nT \\n\\x00 0.0002 8.32 × 10\\n\\x00 5 \\n\\x00 2.40232 0.016291 \\nQ\\nmax \\n\\x00 0.91213 0.297275 \\x00 3.0683 0.002153 \\nNo\\naromatic C \\n0.516346 0.05671 9.105063 8.62 ×\\n10\\n\\x00 20 \\nNo\\nunsub aromatic C \\n\\x00 0.31479 0.115809 \\x00 2.7182 0.006564 \\nPresence\\nCO \\n0.846033 0.323624 2.614245 0.008942 \\nNo\\nArNHR \\n0.619019 0.259708 2.38352 0.017148 \\nNo\\noxetane \\n2.477856 0.762761 3.248534 0.00116 \\nNo\\nX aromatic \\n\\x00 1.25122 0.20772 \\x00 6.0236 1.71 × 10\\n\\x00 9 \\nNo\\nCOOH \\n\\x00 1.82476 0.47864 \\x00 3.81238 0.000138 \\nNo\\nArNHR\\n*No\\nOH \\n\\x00 0.58492 0.100188 \\x00 5.8382 5.28 × 10\\n\\x00 9 \\nω *No\\nunsub aromatic \\nC \\n1.214862 0.381891 3.181174 0.001467  \\nH.N.B. Nguyen and M.Y. Patuwo'),\n",
       " Document(metadata={'producer': 'Acrobat Distiller 8.1.0 (Windows)', 'creator': 'Elsevier', 'creationdate': '2023-06-19T03:00:26+00:00', 'crossmarkdomains[1]': 'elsevier.com', 'crossmarkmajorversiondate': '2010-04-23', 'creationdate--text': '19th June 2023', 'elsevierwebpdfspecifications': '7.0', 'robots': 'noindex', 'moddate': '2023-06-19T06:09:43+00:00', 'author': 'Han Ngoc Bao Nguyen', 'doi': '10.1016/j.rechem.2023.100888', 'title': 'Quantitative Structure-Activity Relationship (QSAR) modelling of the activity of anti-colorectal cancer agents featuring quantum chemical predictors and interaction terms', 'keywords': 'Anti-colorectal cancer agents,Interaction terms,Logistic regression,QSAR,Quantum chemical predictors', 'subject': 'Results in Chemistry, 5 (2023) 100888. doi:10.1016/j.rechem.2023.100888', 'crossmarkdomains[2]': 'sciencedirect.com', 'crossmarkdomainexclusive': 'true', 'source': 'data/han_qsar.pdf', 'total_pages': 8, 'page': 4, 'page_label': '5'}, page_content='Results in Chemistry 5 (2023) 100888\\n5\\ncompound. There should be more attention to test interaction terms in \\nQSAR, especially in anti-CRC QSAR. \\nQSAR result \\nThe final logistic regression model has 12 variables, including 2 \\ninteraction terms, all have null hypothesis rejected in the Wald test \\n( Appendix C ). Its equation is shown below, where β is the coefficients \\nvector, X is the variables vector and π is the probability of the compound \\nbeing active: \\nπ ( X ) =\\n1\\n1 + e\\n\\x00 β • X\\n(1)  \\nin which   \\nInternal and external model validation \\nFor internal validation, a fairly high McFadden ’ s R\\n2 \\nof 0.96555 en -\\nsures the developed QSAR model ’ s goodness of fit, which implies the \\nmodel ’ s robustness (see Table 3 ). For external validation, a relatively \\nhigh accuracy of 85.30 % on the test set also implies its strong predictive \\npower for novel compounds. Therefore, it shows that the QSAR model \\nfor CRC is reliable to classify active and inactive compounds and predict \\nthe activity of novel agents. It also reiterates the possibility to generate a \\nrobust QSAR model using simple predictors, both structural and quan -\\ntum chemical, without external calculation software. The sensitivity can \\nbe further explained by the confusion matrix in Fig. 5 . \\nThe number of True Positive (TP) predictions is 208, of True Nega -\\ntive (TN) predictions is 175, while of False Positive (FP) is 22 and of \\nFalse Negative (FN) is 44. Sensitivity, which is the measure to check \\ncorrectly positive predicted outcomes out of the total number of true \\npositive outcomes,of the model is 208/(208 + 44) = 0.82540. This \\nmodel had the highest sensitivity among all different QSAR logistic \\nregression models generated. High sensitivity is particularly important \\nin the case of identifying active anti-CRC agents when it is more detri -\\nmental to have FN than FP. \\nFor FN, if there are wrong predictions of active agents as inactive, \\nactual active compounds will be overlooked in preliminary screening, \\nwhich reduces the chance of finding a novel anti-cancer agent. Mean -\\nwhile, for FP, an inactive compound predicted as active can still be \\neliminated upon further checking. Therefore, high sensitivity of 0.82540 \\nimplies the model ’ s power to correctly predict observations in the pos -\\nitive class and minimise FN when predicting anti-CRC activity. \\nAdditionally, the logistic regression explains how the structural key \\npoints correlate to differential behaviour in bioactivity against colon \\ncancer cells. The magnitudes and signs of the coefficients have signifi -\\ncant roles in deciding the overall biological activity of the molecule. In \\nthis study, the descriptors with positive coefficients are very significant \\nby contributing towards increasing anti-CRC. \\n̅̅̅̅ ̅\\nM\\n√\\n, No\\naromatic C\\n, Pre -\\nsence\\nCO\\n, No\\nArNHR\\n, No\\noxetane\\n, ω *No\\nunsub aromatic C \\nhave positive co -\\nefficients. Therefore, molecules with high molecular mass, a large \\nnumber of aromatic carbons, carbonyl groups, fragments of type ArNHR \\nand oxetane rings; as well as high value of electrophilicity interacting \\nwith unsubstituted aromatic carbons tend to be more active. These \\ncharacteristics are useful in designing new compounds with high anti- \\nCRC activity. \\nFurthermore, even though E\\nT\\n, Q\\nmax \\nand ω *No\\nunsub aromatic C \\nare the \\nonly three quantum chemical-related predictors in the final model, at -\\ntempts made to remove those from the equation decreased the accuracy \\nsubstantially. Thus, the contribution of those three significant quantum \\nchemical predictors validates the need to consider quantum chemical \\npredictors. They play a role in governing bioactivity against colorectal \\ncancer cell lines and should not be undermined in future QSAR works. \\nAmong many promising quantum chemical predictors after PCA, \\nonly E\\nT\\n, Q\\nmax \\nand ω *No\\nunsub aromatic C \\nhad the null hypothesis rejected by \\nthe Wald test. Note that even though E\\nT \\nhas a small coefficient, a smaller \\nstandard deviation (0.0000832019) gave rise to high Z-score that rejects \\nthe null hypothesis. After many attempts, these 3 predictors also gave \\nbetter logistic regression models with higher accuracy compared to \\nother quantum chemical predictors. This result shows that the three \\npredictors are more essential in explaining anti-CRC activity. \\nMoreover, it is also interesting to note that compounds with high \\nω *No\\nunsub aromatic \\nare more active. While electrophilicity is not a sig -\\nnificant predictor and was removed by the Wald test, its interaction term \\nwith unsubstituted aromatic carbons serves as a very significant pre -\\ndictor that increases anti-CRC activity. Therefore, the ability of the \\nmolecule to accept electron pairs interacting with unsubstituted aro -\\nmatic carbons may control chemical reactions that determine anti-CRC \\nactivity. \\nAdditionally, between the square root of molecular mass and mo -\\nlecular mass, only the square root of molecular mass is proven to be \\nsignificant by the Wald test. The logistic regression model with the \\nsquare root of molecular mass also gave better results. The insight that \\nsquare root molecular mass serves better than molecular mass is also \\nseen in past QSAR works [38] , which is useful for future anti-CRC QSAR. \\nLeave-one-out cross-validation (LOO) \\nBesides internal and external validation, LOO was used to evaluate \\nthe model ’ s predictive power. One compound from the set of 1122 \\ncompounds is extracted each time. The model is recalculated using a \\ntraining set of 1121(n-1) compounds, so that each compound is pre -\\ndicted once. In classification problems, the statistical metric is the per -\\ncentage of observations correctly classified during the n repeated model \\nfittings [39] . \\n86.01 % of 1122 predictions from 1121 different logistic regression \\nmodels were correct (see Table 4 ). It reiterates the model ’ s high accu -\\nracy to predict novel compounds, as well as robustness in predicting \\nanti-CRC activity. \\nConclusion \\nBy considering both quantum chemical and structural predictors, the \\nproposed QSAR model correctly classified 85.30 % of active and inactive \\ncompounds in the test set. It also has relatively high McFadden ’ s R\\n2\\n, \\nsuggesting good goodness of fit. The model selected 12 predictors, 9 \\nstructural and 3 quantum-chemical related predictors from PCA and the \\nWald test, that are sufficiently rich in electronic and quantum chemical \\ninformation to encode molecular structures and predict anti-CRC pro -\\nfiles. Structural fragments with positive contribution to anti-CRC ac -\\ntivity were reported to be used in the design of new active compounds. \\nThe model also proves the significance of interaction terms, and hence, \\nthe importance of interaction between predictors. In addition, the study \\nβ • X = \\x00 5 . 13991 + 0 . 13636\\n̅̅̅̅ ̅\\nM\\n√\\n\\x00 0 . 00020 E\\nT\\n\\x00 0 . 91213 Q\\nmax\\n+ 0 . 51635 No\\naromaticC\\n\\x00 0 . 31479 No\\nunsubaromaticC\\n+ 0 . 84603 Presence\\nCO\\n+ 0 . 61902 No\\nArNHR\\n+ 2 . 47786 No\\noxetane\\n\\x00 1 . 25122 No\\nXaromatic\\n\\x00 1 . 82476 No\\nCOOH\\n\\x00 0 . 58492 No\\nArNHR\\n× No\\nOH\\n+ 1 . 21486 ω × No\\nunsubaromaticC\\n(2)   \\nH.N.B. Nguyen and M.Y. Patuwo'),\n",
       " Document(metadata={'producer': 'Acrobat Distiller 8.1.0 (Windows)', 'creator': 'Elsevier', 'creationdate': '2023-06-19T03:00:26+00:00', 'crossmarkdomains[1]': 'elsevier.com', 'crossmarkmajorversiondate': '2010-04-23', 'creationdate--text': '19th June 2023', 'elsevierwebpdfspecifications': '7.0', 'robots': 'noindex', 'moddate': '2023-06-19T06:09:43+00:00', 'author': 'Han Ngoc Bao Nguyen', 'doi': '10.1016/j.rechem.2023.100888', 'title': 'Quantitative Structure-Activity Relationship (QSAR) modelling of the activity of anti-colorectal cancer agents featuring quantum chemical predictors and interaction terms', 'keywords': 'Anti-colorectal cancer agents,Interaction terms,Logistic regression,QSAR,Quantum chemical predictors', 'subject': 'Results in Chemistry, 5 (2023) 100888. doi:10.1016/j.rechem.2023.100888', 'crossmarkdomains[2]': 'sciencedirect.com', 'crossmarkdomainexclusive': 'true', 'source': 'data/han_qsar.pdf', 'total_pages': 8, 'page': 5, 'page_label': '6'}, page_content='Results in Chemistry 5 (2023) 100888\\n6\\ndemonstrates the possibility of obtaining a robust model using simple \\npredictors without the purchase of calculation software, hence making \\nanti-CRC agents preliminary screening more accessible. \\nCRediT authorship contribution statement \\nHan Ngoc Bao Nguyen: Software, Validation, Formal analysis, \\nInvestigation, Data curation, Writing – original draft, Visualization. \\nMichael Yudistira Patuwo: Conceptualization, Methodology, Re -\\nsources, Writing – review & editing, Supervision, Project administration, \\nFunding acquisition. \\nDeclaration of Competing Interest \\nThe authors declare that they have no known competing financial \\ninterests or personal relationships that could have appeared to influence \\nthe work reported in this paper. \\nData availability \\nData is provided in the submission package \\nAcknowledgement \\nThis research did not receive any specific grant from funding \\nagencies in the public, commercial, or not-for-profit sectors.  \\nAppendix A \\nPrincipal component analysis (PCA) \\nPCA is an important tool in multivariate data analysis to reduce the dimensionality of the dataset and is achieved by a linear transformation of the \\noriginal data set of variables into a smaller number of uncorrelated significant principal components (PCs). The maximum residual variance is given by \\nthe first principal component axis; the second principal component, orthogonal to the first one, has the second maximum variance and so on. In this \\nway, maximum amounts of statistical information can be preserved and visualized [40,41] . Before applying PCA, the dataset was scaled to unit \\nstandard variation and zero mean so that the variables could be compared to each other on the same scale. \\nIn this study, PCA was initially used to select 20 most potential predictors from the pool of 43 predictors. This is achieved by: first, predictors which \\nhave exceedingly small angles between their loading vectors, which suggests they are correlated [42] , were removed to ensure no predictor carries the \\nsame information. Then, predictors with highest loading values of PC1, which suggested they were responsible for the variance of response, were \\nselected. Consequently, the dataset with 20 predictors further underwent PCA to select linear terms for the model. \\nAppendix B \\nLogistic regression  \\n1) Formula of logistic regression \\nLogistic regression is one of the most widely applied machine learning tools in binary classification problems [43] . The equation for multiple binary \\nlogistic regression model is as followed [44] . X is the predictor vector. π denotes the predicted probability of the compound being active, ranging from \\n0 (inactive) to 1 (active). \\nπ ( X ) =\\ne\\nβ\\n0\\n+ β\\n1\\nX\\n1\\n+ ⋯ + β\\nk\\nX\\nk\\n1 + e\\nβ\\n0\\n+ β\\n1\\nX\\n1\\n+ ⋯ + β\\nk\\nX\\nk\\n=\\ne\\nβ • X\\n1 + e\\nβ • X\\n=\\n1\\n1 + e\\n\\x00 β • X \\nLogistic regression uses Maximum Likelihood Estimation (MLE), in which parameters β\\n0\\n, β\\n1\\n, . . ., β\\nk \\nare computed so that the final logistic \\nregression model has maximum log-likelihood [45] . \\nFor a sample of size n, the likelihood for the logistic regression model is given by \\nL ( β , y , X ) =\\n∏\\nn\\ni = 1\\nπ\\nY i\\ni\\n( 1 \\x00 π\\n1\\n)\\n1 \\x00 Y\\ni\\n=\\n∏\\nn\\ni = 1\\n(\\ne\\nX\\n1\\nβ\\n1 + e\\nX\\ni\\nβ\\n)\\nY i\\n(\\n1\\n1 + e\\nX\\ni\\nβ\\n)\\n1 \\x00 Y\\ni \\nThus, the log-likelihood is given by \\nl ( β ) =\\n∑\\nn\\ni = 1\\n[ y\\ni\\nlog ( π\\ni\\n) + ( 1 \\x00 y\\ni\\n) log ( 1 \\x00 π\\ni\\n) ]\\n=\\n∑\\nn\\ni = 1\\n[\\ny\\ni\\nX\\ni\\nβ \\x00 log\\n\\x00\\n1 + e\\nX i β\\n) ]\\nLog-likelihood of logistic regression plays a role analogous to the residual sum of squares in linear regression. The higher the value of the log- \\nlikelihood, the better a model fits a dataset.  \\n2) The model ’ s goodness of fit: McFadden ’ s R\\n2 \\nAmong different R\\n2 \\nfor logistic regression, McFadden ’ s R\\n2 \\n(1974) [46] has been reported as one of the most used metric [47] . The formula for \\nMcFadden ’ s R\\n2 \\nis [48] : \\nH.N.B. Nguyen and M.Y. Patuwo'),\n",
       " Document(metadata={'producer': 'Acrobat Distiller 8.1.0 (Windows)', 'creator': 'Elsevier', 'creationdate': '2023-06-19T03:00:26+00:00', 'crossmarkdomains[1]': 'elsevier.com', 'crossmarkmajorversiondate': '2010-04-23', 'creationdate--text': '19th June 2023', 'elsevierwebpdfspecifications': '7.0', 'robots': 'noindex', 'moddate': '2023-06-19T06:09:43+00:00', 'author': 'Han Ngoc Bao Nguyen', 'doi': '10.1016/j.rechem.2023.100888', 'title': 'Quantitative Structure-Activity Relationship (QSAR) modelling of the activity of anti-colorectal cancer agents featuring quantum chemical predictors and interaction terms', 'keywords': 'Anti-colorectal cancer agents,Interaction terms,Logistic regression,QSAR,Quantum chemical predictors', 'subject': 'Results in Chemistry, 5 (2023) 100888. doi:10.1016/j.rechem.2023.100888', 'crossmarkdomains[2]': 'sciencedirect.com', 'crossmarkdomainexclusive': 'true', 'source': 'data/han_qsar.pdf', 'total_pages': 8, 'page': 6, 'page_label': '7'}, page_content='Results in Chemistry 5 (2023) 100888\\n7\\nR\\n2\\n= 1 \\x00\\nln L\\nf ull\\nln L\\n0 \\nwhere L\\nfull \\nis the estimated likelihood of the full model, and L\\n0 \\nis the estimated likelihood of the null model (model with only intercept).  \\n3) Significance of predictors: the Wald test \\nWald test is the test of significance for individual regression coefficients in logistic regression and is analogous to the t- test in linear regression. The \\nWald statistics where σ denotes standard deviation, is [44] : \\nZ\\ni\\n=\\n̂\\nβ\\ni\\nσ\\n̂\\nβ\\ni \\nThe Wald statistics act as a Z-score. The standard normal curve is used to determine the p-value to test the null hypothesis H\\n0\\n: β\\ni\\n= 0, which states \\nthe specified predictor is not significant in the model. In this study, the confidence level to reject the null hypothesis H\\n0\\n: β\\ni\\n= 0 is 95%. \\nCalculating the standard deviation of coefficients in logistic regression \\nWhere there are p predictors and n observations, the ways to calculate the standard deviation of regression coefficients in logistic regression is [49] : \\nConsider X , the design matrix \\nX =\\n⎡\\n⎢\\n⎢\\n⎣\\n1 x\\n1 , 1\\n⋯ x\\n1 , p\\n1 x\\n2 , 1\\n⋯ x\\n2 , p\\n⋯ ⋯ ⋯ ⋯\\n1 x\\nn , 1\\n⋯ x\\nn , p\\n⎤\\n⎥\\n⎥\\n⎦\\nwhere x\\ni,j \\nis the value of the j\\nth \\npredictor for the i\\nth \\nobservation \\nConsider matrix V with only values in the diagonal: \\nV =\\n⎡\\n⎢\\n⎢\\n⎣\\n̂π\\n1\\n( 1 ̂π\\n1\\n) 0 0 0\\n0 ̂π\\n2\\n( 1 \\x00 ̂π\\n2\\n) ⋯ 0\\n⋯ ⋯ ⋯ ⋯\\n0 0 ⋯ ̂π\\nn\\n( 1 \\x00 ̂π\\nn\\n)\\n⎤\\n⎥\\n⎥\\n⎦\\nwhere ̂π\\ni \\nrepresents the predicted probability for i\\nth \\nobservation. ̂π\\ni \\nranges from 0 to 1. \\nThe covariance matrix can then be written as \\n\\x00\\nX\\nT\\nVX\\n)\\n\\x00 1\\n. The standard deviation of model coefficients is the square roots of the diagonal entries of \\nthis covariance matrix. \\nAppendix C \\nWald test results from logistic regression \\nAll predictors have the null hypothesis rejected in the Wald test at 95% confidence values with p-values lower than 0.05, as shown in Table 5 . \\nAppendix D. Supplementary data \\nSupplementary data to this article can be found online at https://doi.org/10.1016/j.rechem.2023.100888 . \\nReferences \\n[1] Worldwide cancer data | World Cancer Research Fund International. (n.d.). WCRF \\nInternational. Retrieved October 30, 2021, from https://www.wcrf.org/dietandcan \\ncer/worldwide-cancer-data/ . \\n[2] Colorectal cancer statistics | World Cancer Research Fund International. (n.d.). \\nWCRF International. Retrieved January 20, 2022, from https://www.wcrf.org/diet \\nandcancer/colorectal-cancer-statistics/ . \\n[3] Cancer. (n.d.). WHO | World Health Organization. Retrieved October 28, 2021, \\nfrom https://www.who.int/news-room/fact-sheets/detail/cancer . \\n[4] H. Bohari, K. Srivastava, N. Sastry, Analogue-based approaches in anti-cancer \\ncompound modelling: the relevance of QSAR models, Org. Med. Chem. Lett. 1 (1) \\n(2011 Jul 18) 3, https://doi.org/10.1186/2191-2858-1-3 . PMID: 22373294; \\nPMCID: PMC3279142. \\n[5] Radiation Therapy | CancerQuest. (n.d.). CancerQuest. Retrieved November 7, \\n2021, from https://www.cancerquest.org/patients/treatments/radiation-therapy . \\n[6] Chemotherapy as a Treatment for Colorectal Cancer. (2 C.E.). WebMD. htt \\nps://www.webmd.com/colorectal-cancer/chemotherapy . \\n[7] A. Ibrahim, K.A. Oyebamiji, R. Oyewole, B. Semire, A DFT-based QSAR and \\nmolecular docking studies on potent anticolon cancer activity of pyrazole \\nderivatives, Glob. J. Med. Res.: B Pharma, Drug Discovery, Toxicology & Medicine. \\n(2018) . \\n[8] J.A. DiMasi, H.G. Grabowski, R.W. Hansen, Innovation in the pharmaceutical \\nindustry: New estimates of R & D costs, J. Health Econ. 47 (2016) 20 – 33 . \\n[9] S.Y. Ismail, A. Uzairu, In silico QSAR and molecular docking studies of sulfur \\ncontaining shikonin oxime derivatives as anti-cancer agent for colon cancer. \\nRadiol. Infect. Dis. 6 (3) (2019) https://doi.org/10.1016/j.jrid.2019.10.001 . \\n[10] C. Hansch, T. Fujita, A method for the correlation of biological activity and \\nchemical structure, J. Am. Chem. Soc. 86 (1964) 1616 – 1626 . \\n[11] L. Wang, J. Ding, L. Pan, D. Cao, H. Jiang, X. Ding, Quantum chemical descriptors \\nin quantitative structure – activity relationship models and their applications, \\nChemometr. Intell. Lab. Syst. (2021), https://doi.org/10.1016/j. \\nchemolab.2021.104384 . \\n[12] A. Cherkasov, N. Muratov, D. Fourches, et al., QSAR modeling: where have you \\nbeen? Where are you going to? J. Med. Chem. 57 (12) (2014) 4977 – 5010, https:// \\ndoi.org/10.1021/jm4004285 . \\n[13] Zhao Y.S., Zhang X.P., Zhao J.H., Zhang H.Z., Kang X.J., Dong F., Research of \\nQSPR/QSAR for ionic liquids. Prog. Chem., 24 (2012), pp. 1236-1244. \\n[14] T. Wang, X.S. Yuan, M.B. Wu, J.P. Lin, L.R. Yang, The advancement of \\nmultidimensional QSAR for novel drug discovery – where are we headed? Expet \\nOpin. Drug Discov. 12 (2017) 769 – 784, https://doi.org/10.1080/ \\n17460441.2017.1336157 . \\n[15] R. Guha, P.C. Jurs, Determining the validity of a QSAR model – a classification \\napproach, J. Chem. Inf. Model. 45 (2005) 65 – 73 . \\nH.N.B. Nguyen and M.Y. Patuwo'),\n",
       " Document(metadata={'producer': 'Acrobat Distiller 8.1.0 (Windows)', 'creator': 'Elsevier', 'creationdate': '2023-06-19T03:00:26+00:00', 'crossmarkdomains[1]': 'elsevier.com', 'crossmarkmajorversiondate': '2010-04-23', 'creationdate--text': '19th June 2023', 'elsevierwebpdfspecifications': '7.0', 'robots': 'noindex', 'moddate': '2023-06-19T06:09:43+00:00', 'author': 'Han Ngoc Bao Nguyen', 'doi': '10.1016/j.rechem.2023.100888', 'title': 'Quantitative Structure-Activity Relationship (QSAR) modelling of the activity of anti-colorectal cancer agents featuring quantum chemical predictors and interaction terms', 'keywords': 'Anti-colorectal cancer agents,Interaction terms,Logistic regression,QSAR,Quantum chemical predictors', 'subject': 'Results in Chemistry, 5 (2023) 100888. doi:10.1016/j.rechem.2023.100888', 'crossmarkdomains[2]': 'sciencedirect.com', 'crossmarkdomainexclusive': 'true', 'source': 'data/han_qsar.pdf', 'total_pages': 8, 'page': 7, 'page_label': '8'}, page_content='Results in Chemistry 5 (2023) 100888\\n8\\n[16] S. Kim, Y. Shin, S. Ahn, D. Koh, H. Lee, Y. Lim, Biological evaluation of 2-pyra -\\nzolinyl-1-carbothioamide derivatives against HCT116 human colorectal cancer cell \\nlines and elucidation on QSAR and molecular binding modes, Bioorg Med Chem. \\n25 (20) (2017) 5423 – 5432, https://doi.org/10.1016/j.bmc.2017.07.062 . Epub \\n2017 Aug 4 PMID: 28811071. \\n[17] P. Verma, C. Hansch, QSAR modeling of taxane analogues against colon cancer, \\nEur J Med Chem. 45 (4) (2010 Apr) 1470 – 1477, https://doi.org/10.1016/j. \\nejmech.2009.12.054 . Epub 2010 Jan 13 PMID: 20116905. \\n[18] Deokar H., Deokar M., Wang W., Zhang R., Buolamwini K. QSAR Studies of New \\nPyrido[3,4- b ]indole Derivatives as Inhibitors of Colon and Pancreatic Cancer Cell \\nProliferation. Med Chem Res. 2018 Dec;27(11-12):2466-2481. doi: 10.1007/ \\ns00044-018-2250-5. Epub 2018 Oct 3. PMID: 31360052; PMCID: PMC6662939. \\n[19] M. Rybka, A. Mercader, E. Castro, Predictive QSAR study of chalcone derivatives \\ncytotoxicity activity against HT-29 human colon adenocarcinoma cell lines, \\nChemometr. Intell. Lab. Syst. 132 (2013), https://doi.org/10.1016/j. \\nchemolab.2013.12.005 . \\n[20] S. Cruz, E. Gomes, M. Borralho, P. Rodrigues, P. Gaud ˆencio, F. Pereira, In Silico \\nHCT116 human colon cancer cell-based models en route to the discovery of lead- \\nlike anticancer drugs, Biomolecules 8 (3) (2018 Jul 17) 56, https://doi.org/ \\n10.3390/biom8030056 . PMID: 30018273; PMCID: PMC6164384. \\n[21] Karelson M., Lobanov S., and Katritzky R. Quantum-Chemical Descriptors in \\nQSAR/QSPR Studies. Chem. Rev. 1996, 96, 3, 1027 – 1044, Publication Date:May 9, \\n1996 https://doi.org/10.1021/cr950202r . \\n[22] Satbhaiya S. and Chourasia O. P. Scaffold and cell line based approaches for QSAR \\nstudies on anticancer agents, RSC Adv., 2015, 5, 103, 84810-84820, R. Soc. Chem., \\n10.1039/C5RA18295F, https://doi.org/10.1039/C5RA18295F . \\n[23] R. Katritzky, S. Lobanov, M. Karelson, CODESSA 2.0, comprehensive descriptors \\nfor structural and statistical analysis, University of Florida, 1994 . \\n[24] Markovi ´c V., Eri ´c S., Jurani ´c D., Stanojkovi ´c .T, Joksovi ´c L., Rankovi ´c B., Kosani ´c \\nM., Joksovi ´c D. Synthesis, antitumor activity and QSAR studies of some 4-amino -\\nmethylidene derivatives of edaravone. Bioorg. Chem. 2011 Feb;39(1):18-27. doi: \\n10.1016/j.bioorg.2010.10.003. Epub 2010 Oct 28. PMID: 21078519. \\n[25] Tetko I.V., Gasteiger J., Todeschini R., Mauri A., Livingstone D., Ertl P., Palyulin V. \\nA., Radchenko E.V., Zefirov N.S., Makarenko A.S., Tanchuk V.Y., Prokopenko V.V. \\nVirtual computational chemistry laboratory — design and description, J. Comput. \\nAided Mol. Des. 19 (2005) 453 – 463] VCCLAB, Virtual Computational Chemistry \\nLaboratory, 2005. \\n[26] C.W. Yap, PaDEL-descriptor: an open source software to calculate molecular \\ndescriptors and fingerprints, J Comput Chem 32 (7) (2011) 1466 – 1474 . \\n[27] A.S. Girgis, J. Stawinski, N.S.M. Ismail, H. Farag, Synthesis and QSAR study of \\nnovel cytotoxic spiro[3H-indole-3,2\\n′\\n(1\\n′\\nH)-pyrrolo[3,4-c]pyrrole]-2,3\\n′\\n,5\\n′\\n(1H,2\\n′\\naH,4\\n′\\nH)-triones, Eur. J. Med. Chem. 47 (2012) 312 – 322, https://doi.org/ \\n10.1016/j.ejmech.2011.10.058. - DOI - PubMed . \\n[28] A.S. Girgis, S.S. Panda, I.S.A. Farag, A.M. El-Shabiny, A.M. Moustafa, N.S. \\nM. Ismail, G.G. Pillai, C.S. Panda, C.D. Hall, A.R. Katritzky, Synthesis, and QSAR \\nanalysis of anti-oncological active spiro-alkaloids, Org. Biomol. Chem. 13 (2015) \\n1741 – 1753, https://doi.org/10.1039/C4OB02149E. - DOI - PubMed . \\n[29] B. Zolnowska, J. Slawinski, M. Belka, T. Baczek, A. Kawiak, J. Chojnacki, \\nA. Pogorzelska, K. Szafranski, Synthesis, molecular structure, metabolic stability \\nand QSAR studies of a novel series of anticancer N-acylbenzenesulfonamides, \\nMolecules 20 (2015) 19101 – 19129, https://doi.org/10.3390/ \\nmolecules201019101 . \\n[30] J. Slawinski, B. Zolnowska, Z. Brzozowski, A. Kawiak, M. Belka, T. Baczek, \\nSynthesis and QSAR study of novel 6-chloro-3-(2-arylmethylene-1-methylhydra -\\nzino)-1,4,2-benzodithiazine 1,1-dioxide derivatives with anticancer activity, \\nMolecules 20 (2015) 5754 – 5770, https://doi.org/10.3390/molecules20045754 . \\n[31] P. Gramatica, E. Papa, M. Luini, E. Monti, M.B. Gariboldi, M. Ravera, E. Gabano, \\nL. Gaviglio, D. Osella, Antiproliferative Pt (IV) complexes: Synthesis, biological \\nactivity, and quantitative structure – activity relationship modeling, J. Biol. Inorg. \\nChem. 15 (2010) 1157 – 1169, https://doi.org/10.1007/s00775-010-0676-4 . \\n[32] Feature Interaction - PyCaret, 2020, https://pycaret.org/feature-interaction/ . \\n[33] A. Speck-Planche, V. Kleandrova, F. Luan, M. Cordeiro, Rational drug design for \\nanti-cancer chemotherapy: multi-target QSAR models for the in silico discovery of \\nanti-colorectal cancer agents, Bioorg Med Chem. 20 (15) (2012 Aug 1) 4848 – 4855, \\nhttps://doi.org/10.1016/j.bmc.2012.05.071 . Epub 2012 Jun 15 PMID: 22750007. \\n[34] EBI-Team. ChEMBL Database. http://www.ebi.ac.uk/chembldb/, 2010. \\n[35] Amruthnath, N. (2020, June 24). Why balancing your data set is important? | R- \\nbloggers. R-Bloggers; https://www.r-bloggers.com/2020/06/why-balancing-yo \\nur-data-set-is-important/ . \\n[36] Gaussian 16, Revision C.01, M. J. Frisch, G. W. Trucks, H. B. Schlegel, G. E. \\nScuseria, M. A. Robb, J. R. Cheeseman, G. Scalmani, V. Barone, G. A. Petersson, H. \\nNakatsuji, X. Li, M. Caricato, A. V. Marenich, J. Bloino, B. G. Janesko, R. Gomperts, \\nB. Mennucci, H. P. Hratchian, J. V. Ortiz, A. F. Izmaylov, J. L. Sonnenberg, D. \\nWilliams-Young, F. Ding, F. Lipparini, F. Egidi, J. Goings, B. Peng, A. Petrone, T. \\nHenderson, D. Ranasinghe, V. G. Zakrzewski, J. Gao, N. Rega, G. Zheng, W. Liang, \\nM. Hada, M. Ehara, K. Toyota, R. Fukuda, J. Hasegawa, M. Ishida, T. Nakajima, Y. \\nHonda, O. Kitao, H. Nakai, T. Vreven, K. Throssell, J. A. Montgomery, Jr., J. E. \\nPeralta, F. Ogliaro, M. J. Bearpark, J. J. Heyd, E. N. Brothers, K. N. Kudin, V. N. \\nStaroverov, T. A. Keith, R. Kobayashi, J. Normand, K. Raghavachari, A. P. Rendell, \\nJ. C. Burant, S. S. Iyengar, J. Tomasi, M. Cossi, J. M. Millam, M. Klene, C. Adamo, \\nR. Cammi, J. W. Ochterski, R. L. Martin, K. Morokuma, O. Farkas, J. B. Foresman, \\nand D. J. Fox, Gaussian, Inc., Wallingford CT, 2016. \\n[37] M. Khoshneviszadeh, N. Edraki, R. Miri, A. Foroumadi, B. Hemmateenejad, QSAR \\nstudy of 4-aryl-4H-chromenes as a new series of apoptosis inducers using different \\nchemometric tools, Chem. Biol. Drug Des. 79 (4) (2012 Apr) 442 – 458, https://doi. \\norg/10.1111/j.1747-0285.2011.01284.x . Epub 2012 Jan 30 PMID: 22136072. \\n[38] Smeeks C., F., & C. Jurs, P. (1989). Prediction of boiling points of alcohols from \\nmolecular structure. Anal. Chim. Acta, 233 (1990) 111-119. \\n[39] Zach. (2020, November 3). A Quick Intro to Leave-One-Out Cross-Validation \\n(LOOCV). Statology. https://www.statology.org/leave-one-out-cross-validation/ . \\n[40] R.A. Johnson, D.W. Wichern, Applied Multivariate Statistical Analysis, Prentice- \\nHall, Englewood Cliffs, NJ, 1992 . \\n[41] K.V. Mardia, J.T. Kent, J.M. Bibbly, Multivariate Analysis, Academic Press, New \\nYork, 1979 . \\n[42] Jolliffe I., Cadima J. (2016). Principal component analysis: a review and recent \\ndevelopments. https://doi.org/10.1098/rsta.2015.0202 . \\n[43] Enes M., Schmidt, Francis D. Review of Modern Logistic Regression Methods with \\nApplication to Small and Medium Sample Size Problems. AI 2010: Advances in \\nArtificial Intelligence, 2011, Springer Berlin Heidelberg, Berlin, Heidelberg. \\n[44] 1 - Logistic Regression | STAT 462. (n.d.). Statistics Online | STAT ONLINE. \\nRetrieved December 17, 2021, from https://online.stat.psu.edu/stat462/node/ \\n207/ . \\n[45] A Gentle Introduction to Logistic Regression With Maximum Likelihood \\nEstimation. (2019, October 27). Machine Learning Mastery; https://www.faceboo \\nk.com/MachineLearningMastery/ . https://machinelearningmastery.com/logistic \\n-regression-with-maximum-likelihood-estimation/ . \\n[46] D. McFadden, Conditional logit analysis of qualitative choice behaviour, University \\nof Berkeley, California, 1974 . \\n[47] Allison, P. (2013, February 13). What ’ s the Best R-Squared for Logistic Regression | \\nStatistical Horizons. Statistical Horizons | Statistics Training That Makes Sense. htt \\nps://statisticalhorizons.com/r2logistic . \\n[48] Pseudo r-squared for logistic regression — Data Science Topics 0.0.1 \\ndocumentation. (n.d.). Data Science Topics — Data Science Topics 0.0.1 \\nDocumentation. Retrieved December 17, 2021, from https://datascience.oneoffco \\nder.com/psuedo-r-squared-logistic-regression.html . \\n[49] Lecture 26 — Logistic regression. (2016). Stanford University. https://web.sta \\nnford.edu/class/archive/stats/stats200/stats200.1172/Lecture26.pdf . \\nH.N.B. Nguyen and M.Y. Patuwo')]"
      ]
     },
     "execution_count": 15,
     "metadata": {},
     "output_type": "execute_result"
    }
   ],
   "source": [
    "loader = PyPDFLoader(\"data/han_qsar.pdf\")\n",
    "pages = loader.load()\n",
    "pages #load the text per pages\n",
    "#returns a list of document objects. Each document object represents a page in the pdf."
   ]
  },
  {
   "cell_type": "markdown",
   "metadata": {},
   "source": [
    "* returns a list of document objects. Each document object represents a page in the pdf.\n",
    "* a single document can be very long. cannot pass the giant chunk of text to LLM (1) there is a token limit to the requests we make on LLM \n",
    "* for document QA task, the answer to users' questions only lie in some parts of the document. we only need to put those relevant information as context to LLM to make it give the correct answer"
   ]
  },
  {
   "cell_type": "markdown",
   "metadata": {},
   "source": [
    "### Split document"
   ]
  },
  {
   "cell_type": "markdown",
   "metadata": {},
   "source": [
    "* split the document into even smaller chunks\n",
    "* RecursiveCharacterTextSplitter: available from Langchain\n",
    "    * chunk_size: how many characters does each chunk contain\n",
    "    * separators: chunks are broken either double lines, line, or space\n",
    "    * the function will do the best to split according to our contents\n",
    "    * output: a list of chunks\n",
    "    * play with this function to create larger or smaller chunks\n",
    "    * if too big: too much irrelvant information\n",
    "    * if too small: not enough context\n",
    "    "
   ]
  },
  {
   "cell_type": "code",
   "execution_count": 17,
   "metadata": {},
   "outputs": [],
   "source": [
    "text_splitter = RecursiveCharacterTextSplitter(chunk_size=1500,\n",
    "                                            chunk_overlap=200,\n",
    "                                            length_function=len,\n",
    "                                            separators=[\"\\n\\n\", \"\\n\", \" \"])\n",
    "chunks = text_splitter.split_documents(pages)"
   ]
  },
  {
   "cell_type": "code",
   "execution_count": 18,
   "metadata": {},
   "outputs": [
    {
     "data": {
      "text/plain": [
       "32"
      ]
     },
     "execution_count": 18,
     "metadata": {},
     "output_type": "execute_result"
    }
   ],
   "source": [
    "len(chunks)"
   ]
  },
  {
   "cell_type": "markdown",
   "metadata": {},
   "source": [
    "### Create embeddings"
   ]
  },
  {
   "cell_type": "markdown",
   "metadata": {},
   "source": [
    "* TExt embeddings are ways of representing words and documents as numerical vectors that capture their meaning \n",
    "* the format that computers can contain and work with\n",
    "* the vector is a huge vector - a coordinate in a very high dimensional space\n",
    "* similar pieces of text will have vectors that are closer to each other in terms of meaning in this high dimensional space\n",
    "* the distance between those vectors can be calculated using eucledian distance/ cosine similarity \n",
    "* many text embedding models are available. Good embedding -> better at capturing meaning of the test"
   ]
  },
  {
   "cell_type": "code",
   "execution_count": 9,
   "metadata": {},
   "outputs": [],
   "source": [
    "def get_embedding_function():\n",
    "    embeddings = OpenAIEmbeddings(\n",
    "        model=\"text-embedding-ada-002\", #is an embedding function from OpenAI\n",
    "        openai_api_key=OPENAI_API_KEY\n",
    "    )\n",
    "    return embeddings\n",
    "\n",
    "embedding_function = get_embedding_function()\n",
    "test_vector = embedding_function.embed_query(\"cat\") #turn the word cat into a vector"
   ]
  },
  {
   "cell_type": "code",
   "execution_count": 10,
   "metadata": {},
   "outputs": [
    {
     "data": {
      "text/plain": [
       "{'score': 0.17440875566198188}"
      ]
     },
     "execution_count": 10,
     "metadata": {},
     "output_type": "execute_result"
    }
   ],
   "source": [
    "from langchain.evaluation import load_evaluator #use langchain to calculate difference between 2 pieces of text\n",
    "\n",
    "evaluator = load_evaluator(evaluator=\"embedding_distance\", \n",
    "                            embeddings=embedding_function)\n",
    "\n",
    "evaluator.evaluate_strings(prediction=\"Amsterdam\", reference=\"coffeeshop\")"
   ]
  },
  {
   "cell_type": "code",
   "execution_count": 13,
   "metadata": {},
   "outputs": [
    {
     "data": {
      "text/plain": [
       "{'score': 0.22417909850229667}"
      ]
     },
     "execution_count": 13,
     "metadata": {},
     "output_type": "execute_result"
    }
   ],
   "source": [
    "evaluator.evaluate_strings(prediction=\"Paris\", reference=\"coffeeshop\")"
   ]
  },
  {
   "cell_type": "markdown",
   "metadata": {},
   "source": [
    "* paris and coffeshop are less similar than amsterdam and coffeeshop."
   ]
  },
  {
   "cell_type": "markdown",
   "metadata": {},
   "source": [
    "### Create vector database"
   ]
  },
  {
   "cell_type": "markdown",
   "metadata": {},
   "source": [
    "* Need a way to create, manage and query the embedding vector in a good way\n",
    "* A vector database: like a library. We store chunks of information represented in vectors. WE use Chroma vector database in this function.\n",
    "* How does this vector database query information?\n",
    "- question: \"What is the conclusion of the paper\"\n",
    "- database creates the embedding question\n",
    "- database scans through all the embedding vectors to return the most relevant chunk to the question based on the similarity distance we calculated.\n",
    "- this chunk is fed into LLM to generate answers"
   ]
  },
  {
   "cell_type": "code",
   "execution_count": null,
   "metadata": {},
   "outputs": [],
   "source": [
    "# create a Chroma database\n",
    "vectorstore = Chroma.from_documents(documents=chunks,\n",
    "                                    embedding= embedding_function,\n",
    "                                    persist_diretory = \"vectorstore\" #a diretory path to save the vectordatabase later\n",
    "                                    )\n",
    "vectorstore.persis() #the vector store should be saved directly, but we can force save using this "
   ]
  },
  {
   "cell_type": "markdown",
   "metadata": {},
   "source": [
    "One problem\n",
    "* if you happen to create vector embeddings for the same document twice, Chroma will save as 2 different chunks\n",
    "* so Chroma will contain duplicated chunks\n",
    "* so we implement a filter here, and only add unique documents with unique content to the database"
   ]
  },
  {
   "cell_type": "code",
   "execution_count": 18,
   "metadata": {},
   "outputs": [],
   "source": [
    "import uuid\n",
    "#wrap the whole thing in the function that takes chunks, embedding function and the path to vector store\n",
    "def create_vectorstore(chunks, embedding_function, vectorstore_path):\n",
    "\n",
    "    # Create a list of unique ids for each document based on the content\n",
    "    ids = [str(uuid.uuid5(uuid.NAMESPACE_DNS, doc.page_content)) for doc in chunks]\n",
    "    \n",
    "    # Ensure that only unique docs with unique ids are kept\n",
    "    unique_ids = set()\n",
    "    unique_chunks = []\n",
    "    \n",
    "    unique_chunks = [] \n",
    "    for chunk, id in zip(chunks, ids):     \n",
    "        if id not in unique_ids:       \n",
    "            unique_ids.add(id)\n",
    "            unique_chunks.append(chunk) \n",
    "\n",
    "    # Create a new Chroma database from the documents\n",
    "    vectorstore = Chroma.from_documents(documents=unique_chunks, #take our chunks\n",
    "                                        ids=list(unique_ids),\n",
    "                                        embedding=embedding_function, #embedding function for each chunk\n",
    "                                        persist_directory = vectorstore_path)\n",
    "\n",
    "    vectorstore.persist()\n",
    "    \n",
    "    return vectorstore"
   ]
  },
  {
   "cell_type": "code",
   "execution_count": 19,
   "metadata": {},
   "outputs": [],
   "source": [
    "# Create vectorstore\n",
    "vectorstore = create_vectorstore(chunks=chunks, \n",
    "                                 embedding_function=embedding_function, \n",
    "                                 vectorstore_path=\"vectorstore_test\")"
   ]
  },
  {
   "cell_type": "markdown",
   "metadata": {},
   "source": [
    "## 2. Query for relevant data"
   ]
  },
  {
   "cell_type": "code",
   "execution_count": 59,
   "metadata": {},
   "outputs": [],
   "source": [
    "# Load vectorstore\n",
    "vectorstore = Chroma(persist_directory=\"vectorstore_chroma\", embedding_function=embedding_function)"
   ]
  },
  {
   "cell_type": "code",
   "execution_count": 21,
   "metadata": {},
   "outputs": [
    {
     "data": {
      "text/plain": [
       "[Document(metadata={'page': 1, 'source': 'data/1995-watanabe.pdf'}, page_content='Am. J. Physiol. 250, G85~91. \\nWatanabe S. and Dawes C. (1988) The effects of different \\nfoods and concentrations of citric acid on the flow rate of \\nwhole saliva in man. Archs oral Biol. 33, 1-5. \\nWatanabe S. and Dawes C. (1990) Salivary flow rates and \\nsalivary film thickness in five-year-old children. J. dent. \\nRes. 69, 1150-1153. \\nWatanabe S. (1992) Salivary clearance from different re- \\ngions of the mouth in children. Caries Res. 26, 423-427.'),\n",
       " Document(metadata={'page': 1, 'source': 'data/1995-watanabe.pdf'}, page_content='grants-in-aid from the Ministry of Education, Science, and \\nCulture of Japan, Grants 02807189, 05671719 (to S.W.), and \\nby a Grant from the Research Foundation of the Health \\nSciences University of Hokkaido (to S.W.). \\nREFERENCES \\nBecks H. and Wainwright W. W. (1943) Human saliva XIII. \\nRate of flow of resting saliva of healthy individuals. \\nJ. dent. Res. 22, 391-396. \\nDawes C. (1987) Physiological factors affecting salivary flow \\nrate, oral sugar clearance, and the sensation of dry mouth \\nin man. J. dent. Res. 66, 648~53. \\nDawes C. and Watanabe S. (1987) The effect of taste \\nadaptation on salivary flow rate and salivary sugar clear- \\nance. J. dent. Res. 66, 740-744. \\nDuncan K. H., Bacon J. A. and Weinsier R. L. (1983) The \\neffects of high and low energy density diets on satiety, \\nenergy intake, and eating time of obese and nonobese \\nsubjects. Am. J. clin. Nutr. 37, 763-767. \\nHeintze U., Birkhed D. and Bj6rn H. (1983) Secretion rate \\nand buffer effect of resting and stimulated whole saliva as \\na function of age and sex. Swed. dent. J. 7, 227-238. \\nLichter I. and Muir R. C. (1975) The pattern of swallowing \\nduring sleep. Electroenceph. clin. Neurophysiol. 38, \\n427-432. \\nRichardson C. T. and Feldman M. (1986) Salivary response \\nto food in humans and its effect on gastric acid secretion. \\nAm. J. Physiol. 250, G85~91. \\nWatanabe S. and Dawes C. (1988) The effects of different \\nfoods and concentrations of citric acid on the flow rate of'),\n",
       " Document(metadata={'page': 0, 'source': 'data/1995-watanabe.pdf'}, page_content='foods was randomized for all participants. The dry \\nweights of the food-saliva mixture for rice, apple and \\ncookie were subsequently obtained by freeze-drying \\n(Freeze dryer VD-15, Taitec, Japan). The percentage \\ndry weights of the same batches of those foods \\n(unchewed) were also obtained, which allowed calcu- \\nlation of the percentage of food either inadvertently \\nswallowed or retained in the mouth and expectorated, \\nby the formula described by Watanabe and Dawes \\n(1988). \\nThere were no significant differences due to gender \\nin salivary flow rate and times spent awake and eating \\nand thus the results for boys and girls were pooled. \\nTable 1 shows the mean times spent eating (breakfast, \\nlunch, dinner and snacks), awake but not eating, and \\nsleeping. There is surprisingly little information about \\nthe length of time spent eating each day, particularly \\nwhen food is self-selected. From a study of 10 obese \\nand 10 non-obese persons consuming two set diets, \\nDuncan, Bacon and Weinsier (1983) reported that \\ntotal eating time per day was independent of the \\n781'),\n",
       " Document(metadata={'page': 0, 'source': 'data/1995-watanabe.pdf'}, page_content='At the beginning of the main study, unstimulated \\nwhole saliva was collected. The children were seated, \\nwith head down, anti saliva was collected for 5 min by \\nbeing allowed to drip off the lower lip into a weighed \\ncontainer. They swallowed immediately before the \\ncollection, and at the end forcibly spat out any saliva \\nremaining in the mauth into the container, and the \\nincrease in weight was determined (Dawes, 1987). \\nThe children were watched closely so that swallowing \\ndid not occur during the 5-min collection period. The \\nsix representative foods were steamed rice, sausage, mashed potato, cookie, apple and pickled radish. \\nDuring the main study, the amount of a given food \\nwas weighed to the nearest 10 mg on a top-loading \\nbalance (FX3200, A & D, Japan). The participants \\ntook their usual bite-size portions and chewed until \\nsuch time as they would normally have swallowed. \\nHowever, instead of swallowing, they spat out the \\nfood bolus into a previously weighed container. The \\ntime required for all the food to be masticated and \\nspat out was recorded. The volume of saliva secreted \\nin that time was determined by subtracting the initial \\nweight of the food from that of the food-saliva \\nmixture. \\nA rest period of 4 or 5 min was allowed between \\neach successive food. The order of presentation of the \\nfoods was randomized for all participants. The dry \\nweights of the food-saliva mixture for rice, apple and \\ncookie were subsequently obtained by freeze-drying')]"
      ]
     },
     "execution_count": 21,
     "metadata": {},
     "output_type": "execute_result"
    }
   ],
   "source": [
    "# Create retriever and get relevant chunks\n",
    "retriever = vectorstore.as_retriever(search_type=\"similarity\") #search_type: we are using the cosine distance to determine similarity\n",
    "relevant_chunks = retriever.invoke(\"What is the title of the paper?\") #for example, if we ask\n",
    "relevant_chunks #we get back the relevant chunks - feed this to the LLM to create a high quality response"
   ]
  },
  {
   "cell_type": "code",
   "execution_count": null,
   "metadata": {},
   "outputs": [],
   "source": [
    "# Prompt template: create a system prompt for LLM\n",
    "# placeholder for the context: chunks of information from the retriever\n",
    "# question: the aacutal question\n",
    "PROMPT_TEMPLATE = \"\"\"\n",
    "You are an assistant for question-answering tasks.\n",
    "Use the following pieces of retrieved context to answer\n",
    "the question. If you don't know the answer, say that you\n",
    "don't know. DON'T MAKE UP ANYTHING.\n",
    "\n",
    "{context}\n",
    "\n",
    "---\n",
    "\n",
    "Answer the question based on the above context: {question}\n",
    "\"\"\""
   ]
  },
  {
   "cell_type": "markdown",
   "metadata": {},
   "source": [
    "## 3 - Generate response in the simple way:"
   ]
  },
  {
   "cell_type": "code",
   "execution_count": 62,
   "metadata": {},
   "outputs": [
    {
     "name": "stdout",
     "output_type": "stream",
     "text": [
      "Human: \n",
      "You are an assistant for question-answering tasks.\n",
      "Use the following pieces of retrieved context to answer\n",
      "the question. If you don't know the answer, say that you\n",
      "don't know. DON'T MAKE UP ANYTHING.\n",
      "\n",
      "Copyright#2005 John Wiley & Sons, Ltd. Appl. Cognit. Psychol. 20: 139–156 (2006)\n",
      "\n",
      "---\n",
      "\n",
      "language?’ 86.4% of the sample admitted to having done so. Nearly two-thirds answered yes to the question, ‘When you write an essay, do you turn to the thesaurusto choose words that are more complex to give the impression that the content is morevalid or intelligent?’Copyright#2005 John Wiley & Sons, Ltd.*Correspondence to: D. M. Oppenheimer, Department of Psychology, Princeton University, Green Hall Room2-S-8, Princeton, NJ 08540, USA. E-mail: doppenhe@princeton.edu\n",
      "\n",
      "---\n",
      "\n",
      "APPLIED COGNITIVE PSYCHOLOGYAppl. Cognit. Psychol.20: 139–156 (2006)Published online 31 October 2005 in Wiley InterScience(www.interscience.wiley.com) DOI: 10.1002/acp.1178Consequences of Erudite Vernacular Utilized Irrespectiveof Necessity: Problems with Using Long Words NeedlesslyDANIEL M. OPPENHEIMER*Princeton University, USASUMMARYMost texts on writing style encourage authors to avoid overly-complex words. However, a majorityof undergraduates admit to deliberately increasing the complexity of their vocabulary so as to givethe impression of intelligence. This paper explores the extent to which this strategy is effective.Experiments 1–3 manipulate complexity of texts and ﬁnd a negative relationship between complex-ity and judged intelligence. This relationship held regardless of the quality of the original essay, andirrespective of the participants’ prior expectations of essay quality. The negative impact ofcomplexity was mediated by processing ﬂuency. Experiment 4 directly manipulated ﬂuency andfound that texts in hard to read fonts are judged to come from less intelligent authors. Experiment 5investigated discounting of ﬂuency. When obvious causes for low ﬂuency exist that are not relevantto the judgement at hand, people reduce their reliance on ﬂuency as a cue; in fact, in an effort not tobe inﬂuenced by the irrelevant source of ﬂuency, they over-compensate and are biased in the oppositedirection. Implications and applications are discussed. Copyright#2005 John Wiley &\n",
      "\n",
      "---\n",
      "\n",
      "surprising readers with the relative disﬂuency of the text.Both the experts and prevailing wisdom present plausible views, but which (if either) iscorrect? The present paper provides an empirical investigation of the strategy of complex-ity, and ﬁnds such a strategy to be unsuccessful. Five studies demonstrate that the loss ofﬂuency due to needless complexity in a text negatively impacts raters’ assessments of thetext’s authors.EXPERIMENT 1Experiment 1 aimed to answer several simple questions. First, does increasing thecomplexity of text succeed in making the author appear more intelligent? Second, towhat extent does the success of this strategy depend on the quality of the original, simplerwriting? Finally, if the strategy is unsuccessful, is the failure of the strategy due to loss ofﬂuency? To answer these questions, graduate school admission essays were made morecomplex by substituting some of the original words with their longest applicable thesaurusentries.140D. M. Oppenheimer\n",
      "\n",
      "---\n",
      "\n",
      "Answer the question based on the above context: What is the title of the paper?\n",
      "\n"
     ]
    }
   ],
   "source": [
    "# Concatenate context text\n",
    "context_text = \"\\n\\n---\\n\\n\".join([doc.page_content for doc in relevant_chunks])\n",
    "\n",
    "# Create prompt\n",
    "prompt_template = ChatPromptTemplate.from_template(PROMPT_TEMPLATE)\n",
    "prompt = prompt_template.format(context=context_text, \n",
    "                                question=\"What is the title of the paper?\")\n",
    "print(prompt) #the prompt object will have the entire prompt, with the question, the query, all chunks of information"
   ]
  },
  {
   "cell_type": "code",
   "execution_count": 65,
   "metadata": {},
   "outputs": [
    {
     "data": {
      "text/plain": [
       "AIMessage(content='The title of the paper is \"Consequences of Erudite Vernacular Utilized Irrespective of Necessity: Problems with Using Long Words Needlessly.\"', additional_kwargs={'refusal': None}, response_metadata={'token_usage': {'completion_tokens': 32, 'prompt_tokens': 773, 'total_tokens': 805}, 'model_name': 'gpt-4o-mini-2024-07-18', 'system_fingerprint': 'fp_483d39d857', 'finish_reason': 'stop', 'logprobs': None}, id='run-e2017e06-5717-4a90-a7dc-47634ed2728f-0', usage_metadata={'input_tokens': 773, 'output_tokens': 32, 'total_tokens': 805})"
      ]
     },
     "execution_count": 65,
     "metadata": {},
     "output_type": "execute_result"
    }
   ],
   "source": [
    "llm.invoke(prompt)"
   ]
  },
  {
   "cell_type": "markdown",
   "metadata": {},
   "source": [
    "## 3-2. Generate responses in the Langchain way: Langchain Expression Language\n",
    "* Chain all steps and functions together"
   ]
  },
  {
   "cell_type": "markdown",
   "metadata": {},
   "source": [
    "### Using Langchain Expression Language"
   ]
  },
  {
   "cell_type": "code",
   "execution_count": 66,
   "metadata": {},
   "outputs": [
    {
     "data": {
      "text/plain": [
       "AIMessage(content='The title of the paper is \"Consequences of Erudite Vernacular Utilized Irrespective of Necessity: Problems with Using Long Words Needlessly.\"', additional_kwargs={'refusal': None}, response_metadata={'token_usage': {'completion_tokens': 32, 'prompt_tokens': 767, 'total_tokens': 799}, 'model_name': 'gpt-4o-mini-2024-07-18', 'system_fingerprint': 'fp_483d39d857', 'finish_reason': 'stop', 'logprobs': None}, id='run-b478d845-c13f-4ee4-868d-a199f8534a9f-0', usage_metadata={'input_tokens': 767, 'output_tokens': 32, 'total_tokens': 799})"
      ]
     },
     "execution_count": 66,
     "metadata": {},
     "output_type": "execute_result"
    }
   ],
   "source": [
    "def format_docs(docs):\n",
    "    return \"\\n\\n\".join(doc.page_content for doc in docs)\n",
    "\n",
    "rag_chain = (\n",
    "            {\"context\": retriever | format_docs, \"question\": RunnablePassthrough()}\n",
    "            | prompt_template\n",
    "            | llm\n",
    "        )\n",
    "rag_chain.invoke(\"What's the title of this paper?\")"
   ]
  },
  {
   "cell_type": "markdown",
   "metadata": {},
   "source": [
    "### Generate structured responses"
   ]
  },
  {
   "cell_type": "code",
   "execution_count": 73,
   "metadata": {},
   "outputs": [],
   "source": [
    "class AnswerWithSources(BaseModel):\n",
    "    \"\"\"An answer to the question, with sources and reasoning.\"\"\"\n",
    "    answer: str = Field(description=\"Answer to question\")\n",
    "    sources: str = Field(description=\"Full direct text chunk from the context used to answer the question\")\n",
    "    reasoning: str = Field(description=\"Explain the reasoning of the answer based on the sources\")\n",
    "    \n",
    "class ExtractedInfo(BaseModel):\n",
    "    \"\"\"Extracted information about the research article\"\"\"\n",
    "    paper_title: AnswerWithSources\n",
    "    paper_summary: AnswerWithSources\n",
    "    publication_year: AnswerWithSources\n",
    "    paper_authors: AnswerWithSources"
   ]
  },
  {
   "cell_type": "code",
   "execution_count": 74,
   "metadata": {},
   "outputs": [
    {
     "data": {
      "text/plain": [
       "ExtractedInfo(paper_title=AnswerWithSources(answer='Consequences of Erudite Vernacular Utilized Irrespective of Necessity: Problems with Using Long Words Needlessly', sources='Consequences of Erudite Vernacular Utilized Irrespective of Necessity: Problems with Using Long Words Needlessly', reasoning='The title is explicitly mentioned in the context provided.'), paper_summary=AnswerWithSources(answer='Most texts on writing style encourage authors to avoid overly-complex words. However, a majority of undergraduates admit to deliberately increasing the complexity of their vocabulary so as to give the impression of intelligence. This paper explores the extent to which this strategy is effective. Experiments 1–3 manipulate complexity of texts and find a negative relationship between complexity and judged intelligence.', sources='Most texts on writing style encourage authors to avoid overly-complex words. However, a majority of undergraduates admit to deliberately increasing the complexity of their vocabulary so as to give the impression of intelligence. This paper explores the extent to which this strategy is effective. Experiments 1–3 manipulate complexity of texts and find a negative relationship between complexity and judged intelligence.', reasoning='The summary captures the main findings and focus of the research paper as described in the provided text.'), publication_year=AnswerWithSources(answer='2006', sources='APPLIED COGNITIVE PSYCHOLOGY Appl. Cognit. Psychol. 20: 139–156 (2006)', reasoning='The publication year is indicated in the citation at the beginning of the context.'), paper_authors=AnswerWithSources(answer='Daniel M. Oppenheimer', sources='DANIEL M. OPPENHEIMER*Princeton University, USA', reasoning=\"The author's name is mentioned along with their affiliation in the provided context.\"))"
      ]
     },
     "execution_count": 74,
     "metadata": {},
     "output_type": "execute_result"
    }
   ],
   "source": [
    "rag_chain = (\n",
    "            {\"context\": retriever | format_docs, \"question\": RunnablePassthrough()}\n",
    "            | prompt_template\n",
    "            | llm.with_structured_output(ExtractedInfo, strict=True)\n",
    "        )\n",
    "\n",
    "rag_chain.invoke(\"Give me the title, summary, publication date, authors of the research paper.\")"
   ]
  },
  {
   "cell_type": "markdown",
   "metadata": {},
   "source": [
    "### Transform response into a dataframe"
   ]
  },
  {
   "cell_type": "code",
   "execution_count": 75,
   "metadata": {},
   "outputs": [
    {
     "data": {
      "text/html": [
       "<div>\n",
       "<style scoped>\n",
       "    .dataframe tbody tr th:only-of-type {\n",
       "        vertical-align: middle;\n",
       "    }\n",
       "\n",
       "    .dataframe tbody tr th {\n",
       "        vertical-align: top;\n",
       "    }\n",
       "\n",
       "    .dataframe thead th {\n",
       "        text-align: right;\n",
       "    }\n",
       "</style>\n",
       "<table border=\"1\" class=\"dataframe\">\n",
       "  <thead>\n",
       "    <tr style=\"text-align: right;\">\n",
       "      <th></th>\n",
       "      <th>paper_title</th>\n",
       "      <th>paper_summary</th>\n",
       "      <th>publication_year</th>\n",
       "      <th>paper_authors</th>\n",
       "    </tr>\n",
       "  </thead>\n",
       "  <tbody>\n",
       "    <tr>\n",
       "      <th>answer</th>\n",
       "      <td>Consequences of Erudite Vernacular Utilized Ir...</td>\n",
       "      <td>The paper explores the negative relationship b...</td>\n",
       "      <td>2006</td>\n",
       "      <td>Daniel M. Oppenheimer</td>\n",
       "    </tr>\n",
       "    <tr>\n",
       "      <th>source</th>\n",
       "      <td>Copyright#2005 John Wiley &amp; Sons, Ltd. Appl. C...</td>\n",
       "      <td>Most texts on writing style encourage authors ...</td>\n",
       "      <td>Appl. Cognit. Psychol. 20: 139–156 (2006)</td>\n",
       "      <td>Correspondence to: D. M. Oppenheimer, Departme...</td>\n",
       "    </tr>\n",
       "    <tr>\n",
       "      <th>reasoning</th>\n",
       "      <td>The title is explicitly mentioned at the begin...</td>\n",
       "      <td>The summary is derived from the overall conten...</td>\n",
       "      <td>The publication year is indicated in the citat...</td>\n",
       "      <td>The author’s name is provided in the correspon...</td>\n",
       "    </tr>\n",
       "  </tbody>\n",
       "</table>\n",
       "</div>"
      ],
      "text/plain": [
       "                                                 paper_title  \\\n",
       "answer     Consequences of Erudite Vernacular Utilized Ir...   \n",
       "source     Copyright#2005 John Wiley & Sons, Ltd. Appl. C...   \n",
       "reasoning  The title is explicitly mentioned at the begin...   \n",
       "\n",
       "                                               paper_summary  \\\n",
       "answer     The paper explores the negative relationship b...   \n",
       "source     Most texts on writing style encourage authors ...   \n",
       "reasoning  The summary is derived from the overall conten...   \n",
       "\n",
       "                                            publication_year  \\\n",
       "answer                                                  2006   \n",
       "source             Appl. Cognit. Psychol. 20: 139–156 (2006)   \n",
       "reasoning  The publication year is indicated in the citat...   \n",
       "\n",
       "                                               paper_authors  \n",
       "answer                                 Daniel M. Oppenheimer  \n",
       "source     Correspondence to: D. M. Oppenheimer, Departme...  \n",
       "reasoning  The author’s name is provided in the correspon...  "
      ]
     },
     "execution_count": 75,
     "metadata": {},
     "output_type": "execute_result"
    }
   ],
   "source": [
    "structured_response = rag_chain.invoke(\"Give me the title, summary, publication date, authors of the research paper.\")\n",
    "df = pd.DataFrame([structured_response.dict()])\n",
    "\n",
    "# Transforming into a table with two rows: 'answer' and 'source'\n",
    "answer_row = []\n",
    "source_row = []\n",
    "reasoning_row = []\n",
    "\n",
    "for col in df.columns:\n",
    "    answer_row.append(df[col][0]['answer'])\n",
    "    source_row.append(df[col][0]['sources'])\n",
    "    reasoning_row.append(df[col][0]['reasoning'])\n",
    "\n",
    "# Create new dataframe with two rows: 'answer' and 'source'\n",
    "structured_response_df = pd.DataFrame([answer_row, source_row, reasoning_row], columns=df.columns, index=['answer', 'source', 'reasoning'])\n",
    "structured_response_df"
   ]
  },
  {
   "cell_type": "code",
   "execution_count": null,
   "metadata": {},
   "outputs": [],
   "source": []
  }
 ],
 "metadata": {
  "kernelspec": {
   "display_name": "myenv",
   "language": "python",
   "name": "python3"
  },
  "language_info": {
   "codemirror_mode": {
    "name": "ipython",
    "version": 3
   },
   "file_extension": ".py",
   "mimetype": "text/x-python",
   "name": "python",
   "nbconvert_exporter": "python",
   "pygments_lexer": "ipython3",
   "version": "3.11.11"
  }
 },
 "nbformat": 4,
 "nbformat_minor": 2
}
